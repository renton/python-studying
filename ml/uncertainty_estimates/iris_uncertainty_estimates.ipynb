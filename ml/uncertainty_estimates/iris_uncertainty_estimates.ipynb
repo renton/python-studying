{
 "cells": [
  {
   "cell_type": "code",
   "execution_count": 1,
   "id": "c2462e98-0387-4551-9748-b60552a5538d",
   "metadata": {},
   "outputs": [],
   "source": [
    "%matplotlib inline\n",
    "import pandas as pd\n",
    "import numpy as np\n",
    "import matplotlib.pyplot as plt\n",
    "import mglearn\n",
    "from sklearn.model_selection import train_test_split"
   ]
  },
  {
   "cell_type": "code",
   "execution_count": 9,
   "id": "73f3444d-31e7-46d1-a520-e743ebfd0452",
   "metadata": {},
   "outputs": [
    {
     "data": {
      "text/plain": [
       "(38, 3)"
      ]
     },
     "execution_count": 9,
     "metadata": {},
     "output_type": "execute_result"
    }
   ],
   "source": [
    "from sklearn.datasets import load_iris\n",
    "from sklearn.ensemble import GradientBoostingClassifier\n",
    "\n",
    "iris = load_iris()\n",
    "X_train, X_test, y_train, y_test = train_test_split(iris.data, iris.target, random_state=42)\n",
    "\n",
    "gbrt = GradientBoostingClassifier(learning_rate=0.01, random_state=0)\n",
    "gbrt.fit(X_train, y_train)\n",
    "\n",
    "gbrt.decision_function(X_test).shape"
   ]
  },
  {
   "cell_type": "code",
   "execution_count": 10,
   "id": "cb15ca83-81cd-4795-a94d-80d914355fad",
   "metadata": {},
   "outputs": [
    {
     "data": {
      "text/plain": [
       "array([[-0.89604809,  1.14724958, -0.82754003],\n",
       "       [ 1.16113086, -0.80789044, -0.82827067],\n",
       "       [-0.89091511, -0.77671169,  1.19653416],\n",
       "       [-0.89604809,  1.14724958, -0.82754003],\n",
       "       [-0.89763468,  0.96497584, -0.10374792],\n",
       "       [ 1.16113086, -0.80789044, -0.82827067],\n",
       "       [-0.89604809,  1.14724958, -0.82754003],\n",
       "       [-0.89710742, -0.77671169,  1.19653416],\n",
       "       [-0.89604809,  1.14724958, -0.82754003],\n",
       "       [-0.89604809,  1.14724958, -0.82754003],\n",
       "       [-0.89710742, -0.77671169,  1.17829848],\n",
       "       [ 1.16113086, -0.80789044, -0.82827067],\n",
       "       [ 1.16113086, -0.80789044, -0.82827067],\n",
       "       [ 1.16113086, -0.80789044, -0.82827067],\n",
       "       [ 1.16113086, -0.80789044, -0.82827067],\n",
       "       [-0.89604809,  1.14724958, -0.82754003],\n",
       "       [-0.89120824, -0.77671169,  1.19653416],\n",
       "       [-0.89604809,  1.14724958, -0.82754003],\n",
       "       [-0.89604809,  1.14724958, -0.82754003],\n",
       "       [-0.89120824, -0.77671169,  1.19653416],\n",
       "       [ 1.16113086, -0.80789044, -0.82827067],\n",
       "       [-0.89763468, -0.76462979,  1.14132741],\n",
       "       [ 1.16113086, -0.80789044, -0.82827067],\n",
       "       [-0.89120824, -0.77671169,  1.19653416],\n",
       "       [-0.89120824, -0.77671169,  1.17829848],\n",
       "       [-0.89120824, -0.77671169,  1.19653416],\n",
       "       [-0.89091511, -0.77671169,  1.19653416],\n",
       "       [-0.89120824, -0.77671169,  1.17829848],\n",
       "       [ 1.16113086, -0.80789044, -0.82827067],\n",
       "       [ 1.16113086, -0.80789044, -0.82827067],\n",
       "       [ 1.16113086, -0.80789044, -0.82827067],\n",
       "       [ 1.16113086, -0.80789044, -0.82827067],\n",
       "       [-0.89604809,  1.14724958, -0.82754003],\n",
       "       [ 1.16113086, -0.80789044, -0.82827067],\n",
       "       [ 1.16113086, -0.80789044, -0.82827067],\n",
       "       [-0.89745527, -0.77671169,  1.14132741],\n",
       "       [-0.89604809,  1.14724958, -0.82754003],\n",
       "       [ 1.16113086, -0.80789044, -0.82827067]])"
      ]
     },
     "execution_count": 10,
     "metadata": {},
     "output_type": "execute_result"
    }
   ],
   "source": [
    "gbrt.decision_function(X_test)"
   ]
  },
  {
   "cell_type": "code",
   "execution_count": 11,
   "id": "19a3b8d2-bcec-415c-a3b3-db46c43ad40b",
   "metadata": {},
   "outputs": [
    {
     "data": {
      "text/plain": [
       "array([1, 0, 2, 1, 1, 0, 1, 2, 1, 1, 2, 0, 0, 0, 0, 1, 2, 1, 1, 2, 0, 2,\n",
       "       0, 2, 2, 2, 2, 2, 0, 0, 0, 0, 1, 0, 0, 2, 1, 0])"
      ]
     },
     "execution_count": 11,
     "metadata": {},
     "output_type": "execute_result"
    }
   ],
   "source": [
    "# largest score means that a class is more likely\n",
    "np.argmax(gbrt.decision_function(X_test), axis=1)"
   ]
  },
  {
   "cell_type": "code",
   "execution_count": 12,
   "id": "77d0ff02-4842-43bf-b8c6-ecbdfa874b38",
   "metadata": {},
   "outputs": [
    {
     "data": {
      "text/plain": [
       "array([1, 0, 2, 1, 1, 0, 1, 2, 1, 1, 2, 0, 0, 0, 0, 1, 2, 1, 1, 2, 0, 2,\n",
       "       0, 2, 2, 2, 2, 2, 0, 0, 0, 0, 1, 0, 0, 2, 1, 0])"
      ]
     },
     "execution_count": 12,
     "metadata": {},
     "output_type": "execute_result"
    }
   ],
   "source": [
    "gbrt.predict(X_test)"
   ]
  },
  {
   "cell_type": "code",
   "execution_count": 19,
   "id": "c74659f4-eb24-4bc8-8d2d-9675ed343504",
   "metadata": {},
   "outputs": [
    {
     "data": {
      "text/plain": [
       "array([[0.10217718, 0.78840034, 0.10942248],\n",
       "       [0.78347147, 0.10936745, 0.10716108],\n",
       "       [0.09818072, 0.11005864, 0.79176065],\n",
       "       [0.10217718, 0.78840034, 0.10942248],\n",
       "       [0.10360005, 0.66723901, 0.22916094],\n",
       "       [0.78347147, 0.10936745, 0.10716108],\n",
       "       [0.10217718, 0.78840034, 0.10942248],\n",
       "       [0.09763381, 0.11012538, 0.79224081],\n",
       "       [0.10217718, 0.78840034, 0.10942248],\n",
       "       [0.10217718, 0.78840034, 0.10942248],\n",
       "       [0.09905185, 0.11172485, 0.78922331],\n",
       "       [0.78347147, 0.10936745, 0.10716108],\n",
       "       [0.78347147, 0.10936745, 0.10716108],\n",
       "       [0.78347147, 0.10936745, 0.10716108],\n",
       "       [0.78347147, 0.10936745, 0.10716108],\n",
       "       [0.10217718, 0.78840034, 0.10942248],\n",
       "       [0.09815477, 0.1100618 , 0.79178343],\n",
       "       [0.10217718, 0.78840034, 0.10942248],\n",
       "       [0.10217718, 0.78840034, 0.10942248],\n",
       "       [0.09815477, 0.1100618 , 0.79178343],\n",
       "       [0.78347147, 0.10936745, 0.10716108],\n",
       "       [0.10178234, 0.11626145, 0.78195621],\n",
       "       [0.78347147, 0.10936745, 0.10716108],\n",
       "       [0.09815477, 0.1100618 , 0.79178343],\n",
       "       [0.09957954, 0.11165941, 0.78876105],\n",
       "       [0.09815477, 0.1100618 , 0.79178343],\n",
       "       [0.09818072, 0.11005864, 0.79176065],\n",
       "       [0.09957954, 0.11165941, 0.78876105],\n",
       "       [0.78347147, 0.10936745, 0.10716108],\n",
       "       [0.78347147, 0.10936745, 0.10716108],\n",
       "       [0.78347147, 0.10936745, 0.10716108],\n",
       "       [0.78347147, 0.10936745, 0.10716108],\n",
       "       [0.10217718, 0.78840034, 0.10942248],\n",
       "       [0.78347147, 0.10936745, 0.10716108],\n",
       "       [0.78347147, 0.10936745, 0.10716108],\n",
       "       [0.10194108, 0.11502374, 0.78303519],\n",
       "       [0.10217718, 0.78840034, 0.10942248],\n",
       "       [0.78347147, 0.10936745, 0.10716108]])"
      ]
     },
     "execution_count": 19,
     "metadata": {},
     "output_type": "execute_result"
    }
   ],
   "source": [
    "# using predict_proba\n",
    "gbrt.predict_proba(X_test)"
   ]
  },
  {
   "cell_type": "code",
   "execution_count": 20,
   "id": "cdac8295-8a68-4c39-8850-09965a07ea9c",
   "metadata": {},
   "outputs": [
    {
     "data": {
      "text/plain": [
       "array([1., 1., 1., 1., 1., 1., 1., 1., 1., 1., 1., 1., 1., 1., 1., 1., 1.,\n",
       "       1., 1., 1., 1., 1., 1., 1., 1., 1., 1., 1., 1., 1., 1., 1., 1., 1.,\n",
       "       1., 1., 1., 1.])"
      ]
     },
     "execution_count": 20,
     "metadata": {},
     "output_type": "execute_result"
    }
   ],
   "source": [
    "# probabilities sum up to 1\n",
    "gbrt.predict_proba(X_test).sum(axis=1)"
   ]
  },
  {
   "cell_type": "code",
   "execution_count": 22,
   "id": "d15d0f5d-8e5f-45a0-86dc-41f92657dcb8",
   "metadata": {},
   "outputs": [
    {
     "data": {
      "text/plain": [
       "array([1, 0, 2, 1, 1, 0, 1, 2, 1, 1, 2, 0, 0, 0, 0, 1, 2, 1, 1, 2, 0, 2,\n",
       "       0, 2, 2, 2, 2, 2, 0, 0, 0, 0, 1, 0, 0, 2, 1, 0])"
      ]
     },
     "execution_count": 22,
     "metadata": {},
     "output_type": "execute_result"
    }
   ],
   "source": [
    "np.argmax(gbrt.predict_proba(X_test), axis=1)"
   ]
  },
  {
   "cell_type": "code",
   "execution_count": 23,
   "id": "7c0ca582-d60c-4e31-8a27-ecce48c8549b",
   "metadata": {},
   "outputs": [
    {
     "data": {
      "text/plain": [
       "array([1, 0, 2, 1, 1, 0, 1, 2, 1, 1, 2, 0, 0, 0, 0, 1, 2, 1, 1, 2, 0, 2,\n",
       "       0, 2, 2, 2, 2, 2, 0, 0, 0, 0, 1, 0, 0, 2, 1, 0])"
      ]
     },
     "execution_count": 23,
     "metadata": {},
     "output_type": "execute_result"
    }
   ],
   "source": [
    "gbrt.predict(X_test)"
   ]
  },
  {
   "cell_type": "code",
   "execution_count": 27,
   "id": "f1f01528-f9e2-4e81-b00a-0229419b7ae3",
   "metadata": {},
   "outputs": [
    {
     "data": {
      "text/plain": [
       "np.True_"
      ]
     },
     "execution_count": 27,
     "metadata": {},
     "output_type": "execute_result"
    }
   ],
   "source": [
    "np.all(gbrt.predict(X_test) == np.argmax(gbrt.predict_proba(X_test), axis=1))"
   ]
  },
  {
   "cell_type": "code",
   "execution_count": 38,
   "id": "8432fe33-db97-46fc-ac1d-760dfa575ec5",
   "metadata": {},
   "outputs": [
    {
     "name": "stdout",
     "output_type": "stream",
     "text": [
      "['setosa' 'versicolor' 'virginica']\n",
      "['versicolor' 'setosa' 'virginica' 'versicolor' 'versicolor' 'setosa'\n",
      " 'versicolor' 'virginica' 'versicolor' 'versicolor']\n",
      "[1 0 2 1 1 0 1 2 1 1]\n"
     ]
    },
    {
     "data": {
      "text/plain": [
       "array(['versicolor', 'setosa', 'virginica', 'versicolor', 'versicolor',\n",
       "       'setosa', 'versicolor', 'virginica', 'versicolor', 'versicolor'],\n",
       "      dtype='<U10')"
      ]
     },
     "execution_count": 38,
     "metadata": {},
     "output_type": "execute_result"
    }
   ],
   "source": [
    "# make sure to use the classes_ attribute since order not guaranteed for classes\n",
    "\n",
    "from sklearn.linear_model import LogisticRegression\n",
    "\n",
    "logreg = LogisticRegression()\n",
    "\n",
    "named_target = iris.target_names[y_train]\n",
    "logreg.fit(X_train, named_target)\n",
    "\n",
    "print(logreg.classes_)\n",
    "print(logreg.predict(X_test)[:10])\n",
    "\n",
    "argmax_dec_func = np.argmax(logreg.decision_function(X_test), axis=1)\n",
    "print(argmax_dec_func[:10])\n",
    "logreg.classes_[argmax_dec_func][:10]"
   ]
  }
 ],
 "metadata": {
  "kernelspec": {
   "display_name": "Python 3 (ipykernel)",
   "language": "python",
   "name": "python3"
  },
  "language_info": {
   "codemirror_mode": {
    "name": "ipython",
    "version": 3
   },
   "file_extension": ".py",
   "mimetype": "text/x-python",
   "name": "python",
   "nbconvert_exporter": "python",
   "pygments_lexer": "ipython3",
   "version": "3.13.2"
  }
 },
 "nbformat": 4,
 "nbformat_minor": 5
}
